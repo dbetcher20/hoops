{
 "cells": [
  {
   "cell_type": "code",
   "execution_count": null,
   "metadata": {},
   "outputs": [],
   "source": [
    "import numpy\n",
    "import pandas\n",
    "from matplotlib import pyplot as plt\n",
    "plt.style.use('ggplot')\n",
    "import seaborn as sns\n",
    "from sklearn.cluster import KMeans\n",
    "import sklearn.metrics as metrics\n",
    "import warnings\n",
    "from sklearn import preprocessing\n",
    "\n",
    "warnings.filterwarnings('ignore')\n",
    "\n",
    "pandas.set_option('display.max_columns', 500)\n",
    "pandas.set_option('display.max_rows', 500)\n",
    "original_data = pandas.read_csv('sf_data.csv')\n",
    "drops = ['abb','abbreviation','name','conference','assists',\n",
    "        'away_wins','blocks','conference_wins','defensive_rebounds',\n",
    "        'field_goal_attempts','field_goals','free_throws',\n",
    "        'games_played','home_wins','minutes_played','losses',\n",
    "        'offensive_rebounds','opp_assists','opp_blocks',\n",
    "        'opp_defensive_rebounds','opp_field_goal_attempts',\n",
    "        'opp_field_goals','opp_free_throw_attempts','opp_free_throws',\n",
    "        'opp_offensive_rebounds','opp_personal_fouls','opp_steals',\n",
    "        'opp_three_point_field_goal_attempts','opp_three_point_field_goals',\n",
    "        'opp_total_rebounds','opp_turnovers','opp_two_point_field_goal_attempts',\n",
    "        'opp_two_point_field_goals','personal_fouls','steals','three_point_field_goal_attempts',\n",
    "        'three_point_field_goals','total_rebounds','turnovers',\n",
    "        'two_point_field_goal_attempts','two_point_field_goals','wins']\n",
    "data = original_data.drop(drops,1)\n",
    "# data = data[data['major']==0]\n",
    "data = data[data['major']!=0]\n",
    "data_standardized = preprocessing.scale(data)"
   ]
  },
  {
   "cell_type": "code",
   "execution_count": null,
   "metadata": {},
   "outputs": [],
   "source": [
    "# #use to find number of clusters I should start with\n",
    "plt.figure(figsize=(10, 8))\n",
    "wcss = []\n",
    "for i in range(1, 11):\n",
    "    kmeans = KMeans(n_clusters = i, init = 'k-means++', random_state = 42)\n",
    "    kmeans.fit(data_standardized)\n",
    "    wcss.append(kmeans.inertia_)\n",
    "plt.plot(range(1, 11), wcss)\n",
    "plt.title('The Elbow Method')\n",
    "plt.xlabel('Number of clusters')\n",
    "plt.ylabel('WCSS')\n",
    "plt.show()"
   ]
  },
  {
   "cell_type": "code",
   "execution_count": null,
   "metadata": {},
   "outputs": [],
   "source": [
    "kmeans = KMeans(n_clusters = 4, init = 'k-means++', random_state = 42)\n",
    "y_kmeans = kmeans.fit_predict(data_standardized)\n",
    "y_kmeans1=y_kmeans\n",
    "y_kmeans1=y_kmeans+1\n",
    "cluster = pandas.DataFrame(y_kmeans1)\n",
    "cluster.columns = ['cluster']\n",
    "\n",
    "data_rejoin = pandas.merge(data,original_data)\n",
    "joined = pandas.merge(data_rejoin,cluster,left_index=True,right_index=True)\n",
    "\n",
    "joined.groupby('cluster')['win_percentage','net_rating','simple_rating_system','offensive_rating',\n",
    "                           'opp_offensive_rating',\n",
    "                          'true_shooting_percentage','field_goal_percentage','effective_field_goal_percentage',\n",
    "                          'total_rebound_percentage','two_point_field_goal_percentage'].mean()"
   ]
  },
  {
   "cell_type": "code",
   "execution_count": null,
   "metadata": {},
   "outputs": [],
   "source": [
    "sns.scatterplot(kmeans.cluster_centers_[:,0], kmeans.cluster_centers_[:,1], \n",
    "                marker='+', \n",
    "                color='black', \n",
    "                s=200)\n",
    "sns.scatterplot(data_standardized[:,0], data_standardized[:,1], hue = joined['cluster'],\n",
    "                palette=sns.color_palette(\"Set1\", n_colors=4))"
   ]
  },
  {
   "cell_type": "code",
   "execution_count": null,
   "metadata": {},
   "outputs": [],
   "source": [
    "x_axis = pandas.DataFrame(data_standardized[:,0])\n",
    "y_axis = pandas.DataFrame(data_standardized[:,1])\n",
    "axis_join = pandas.merge(x_axis,y_axis,left_index=True,right_index=True)\n",
    "axis_join.columns = ['x','y']\n",
    "\n",
    "km_cen_x_axis = pandas.DataFrame(kmeans.cluster_centers_[:,0])\n",
    "km_cen_y_axis = pandas.DataFrame(kmeans.cluster_centers_[:,1])\n",
    "km_cen_axis_join = pandas.merge(km_cen_x_axis,km_cen_y_axis,left_index=True,right_index=True).T\n",
    "km_cen_axis_join.columns = ['cluster1','cluster2','cluster3','cluster4']\n",
    "km_cen_axis_join.rename(index={'0_x':'x_cen','0_y':'y_cen'}, inplace=True)\n",
    "just_x = pandas.DataFrame(km_cen_axis_join.iloc[0,]).T\n",
    "just_x.columns = ['cluster1_x','cluster2_x','cluster3_x','cluster4_x']\n",
    "just_y = pandas.DataFrame(km_cen_axis_join.iloc[1,]).T\n",
    "just_y.columns = ['cluster1_y','cluster2_y','cluster3_y','cluster4_y']\n",
    "km_cen_axis_final = axis_join.assign(**just_x.iloc[0])\n",
    "km_cen_axis_final = km_cen_axis_final.assign(**just_y.iloc[0])\n",
    "\n",
    "def numpy_triu1(df):          \n",
    "    a = df.values\n",
    "    r,c = numpy.triu_indices(a.shape[1],1)\n",
    "    cols = df.columns\n",
    "    nm = [cols[i]+\"_\"+cols[j] for i,j in zip(r,c)]\n",
    "    return pandas.DataFrame(abs(a[:,r] - a[:,c]), columns=nm)\n",
    "\n",
    "diffs = numpy_triu1(km_cen_axis_final)\n",
    "diffs_table = diffs.iloc[:,[1,2,3,4,13,14,15,16]]\n",
    "diffs_table['cluster1_dist'] = (diffs_table['x_cluster1_x'] + diffs_table['y_cluster1_y'])/2\n",
    "diffs_table['cluster2_dist'] = (diffs_table['x_cluster2_x'] + diffs_table['y_cluster2_y'])/2\n",
    "diffs_table['cluster3_dist'] = (diffs_table['x_cluster3_x'] + diffs_table['y_cluster3_y'])/2\n",
    "diffs_table['cluster4_dist'] = (diffs_table['x_cluster4_x'] + diffs_table['y_cluster4_y'])/2\n",
    "diffs_table['min_val'] = diffs_table[['cluster1_dist','cluster2_dist','cluster3_dist','cluster4_dist']].min(axis=1)\n",
    "\n",
    "conditions = [\n",
    "    (diffs_table['min_val'] == diffs_table['cluster1_dist']),\n",
    "    (diffs_table['min_val'] == diffs_table['cluster2_dist']),\n",
    "    (diffs_table['min_val'] == diffs_table['cluster3_dist'])]\n",
    "choices = [1, 2, 3]\n",
    "diffs_table['math_cluster'] = numpy.select(conditions, choices, default=4)\n",
    "math_clusters = diffs_table.iloc[:,13]\n",
    "\n",
    "joined2 = pandas.merge(joined,math_clusters,left_index=True,right_index=True)\n",
    "joined2['k_vs_math_match'] = joined2['cluster'] == joined2['math_cluster']"
   ]
  },
  {
   "cell_type": "code",
   "execution_count": null,
   "metadata": {},
   "outputs": [],
   "source": [
    "joined2.to_csv('college_hoops_team_clusters.csv')\n",
    "# joined2.to_csv('college_hoops_team_clusters_lowmajor.csv')"
   ]
  },
  {
   "cell_type": "code",
   "execution_count": null,
   "metadata": {},
   "outputs": [],
   "source": [
    "joined2"
   ]
  }
 ],
 "metadata": {
  "kernelspec": {
   "display_name": "Python 3",
   "language": "python",
   "name": "python3"
  },
  "language_info": {
   "codemirror_mode": {
    "name": "ipython",
    "version": 3
   },
   "file_extension": ".py",
   "mimetype": "text/x-python",
   "name": "python",
   "nbconvert_exporter": "python",
   "pygments_lexer": "ipython3",
   "version": "3.7.4"
  }
 },
 "nbformat": 4,
 "nbformat_minor": 2
}
