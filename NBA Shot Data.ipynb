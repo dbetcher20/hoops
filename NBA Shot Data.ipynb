{
 "cells": [
  {
   "cell_type": "code",
   "execution_count": null,
   "metadata": {},
   "outputs": [],
   "source": [
    "from nba_api.stats.static import players,teams\n",
    "from nba_api.stats.endpoints import commonteamroster,shotchartdetail,boxscoreadvancedv2,boxscoreplayertrackv2,playergamelog,boxscorematchups,leaguegamefinder,playbyplayv2\n",
    "import json\n",
    "import pandas as pd\n",
    "from pandas.io.json import json_normalize\n",
    "\n",
    "custom_headers = {\n",
    "        'Host': 'stats.nba.com',\n",
    "        'Connection': 'keep-alive',\n",
    "        'Accept': 'application/json, text/plain, */*',\n",
    "        'User-Agent': 'Mozilla/5.0 (Windows NT 10.0; Win64; x64) AppleWebKit/537.36 (KHTML, like Gecko) Chrome/83.0.4103.97 Safari/537.36',\n",
    "        'Referer': 'https://stats.nba.com/',\n",
    "        \"x-nba-stats-origin\": \"stats\",\n",
    "        \"x-nba-stats-token\": \"true\",\n",
    "        'Accept-Encoding': 'gzip, deflate, br',\n",
    "        'Accept-Language': 'en-US,en;q=0.9',\n",
    "        }\n",
    "\n",
    "team_ids = json_normalize(teams.get_teams())['id'].unique().tolist()\n",
    "df = pd.DataFrame()\n",
    "\n",
    "def getroster(i):\n",
    "    roster = pd.DataFrame(json.loads(commonteamroster.CommonTeamRoster(team_id=i,season='2019-20',headers=custom_headers,timeout=1000).get_json())['resultSets'][0]['rowSet'],\n",
    "                                   columns=json.loads(commonteamroster.CommonTeamRoster(team_id=i,season='2019-20',headers=custom_headers,\n",
    "                                                                                timeout=1000).get_json())['resultSets'][0]['headers'])\n",
    "    return roster\n",
    "\n",
    "for i in team_ids:\n",
    "    result = getroster(i)\n",
    "    df = pd.concat([df,result])\n",
    "\n",
    "df\n",
    "\n",
    "# getroster(1610612749)\n"
   ]
  },
  {
   "cell_type": "code",
   "execution_count": null,
   "metadata": {},
   "outputs": [],
   "source": [
    "######### Gets roster player ids for all teams #############\n",
    "players_full_list = pd.DataFrame()\n",
    "\n",
    "team_ids = json_normalize(teams.get_teams())['id'].unique().tolist()\n",
    "team_names = json_normalize(teams.get_teams())[['id','full_name','abbreviation']]\n",
    "\n",
    "for i in team_ids:\n",
    "    roster_response = pd.DataFrame(json.loads(commonteamroster.CommonTeamRoster(team_id=i,\n",
    "                                                                                season='2019-20',\n",
    "                                                                                headers=custom_headers,\n",
    "                                                                                timeout=1800).get_json())['resultSets'][0]['rowSet'],\n",
    "                                   columns=json.loads(commonteamroster.CommonTeamRoster(team_id=i,\n",
    "                                                                                season='2019-20',\n",
    "                                                                                headers=custom_headers,\n",
    "                                                                                timeout=1800).get_json())['resultSets'][0]['headers'])\n",
    "#     data = json.loads(roster_response)['resultSets'][0]['rowSet']\n",
    "#     cols = json.loads(roster_response)['resultSets'][0]['headers']\n",
    "#     roster_df = pd.DataFrame.from_records(data)\n",
    "#     roster_df.columns = cols\n",
    "    players_full_list = pd.concat([players_full_list,roster_response])\n",
    "players_full_list.head(10)"
   ]
  },
  {
   "cell_type": "code",
   "execution_count": null,
   "metadata": {},
   "outputs": [],
   "source": [
    "############### Gets all shot attempts/locations from team roster id list ##############\n",
    "joined_rosters = pd.merge(players_full_list,team_names,how='inner',left_on='TeamID',right_on='id')\n",
    "players = joined_rosters.groupby(['PLAYER_ID','id']).apply(list).reset_index(name='new')\n",
    "player_ids = players['PLAYER_ID'].tolist()\n",
    "team_ids = players['id'].tolist()\n",
    "\n",
    "shot_full_list = pd.DataFrame()\n",
    "\n",
    "for i,t in zip(player_ids,team_ids):\n",
    "    try:\n",
    "        shot_response = pd.DataFrame(json.loads(shotchartdetail.ShotChartDetail(player_id=i,context_measure_simple='FGA',\n",
    "                                                        season_nullable='2019-20',\n",
    "                                                        team_id=t,headers=custom_headers,timeout=20).get_json())['resultSets'][0]['rowSet'],\n",
    "                                     columns=json.loads(shotchartdetail.ShotChartDetail(player_id=i,context_measure_simple='FGA',\n",
    "                                                        season_nullable='2019-20',\n",
    "                                                        team_id=t,headers=custom_headers,timeout=20).get_json())['resultSets'][0]['headers'])\n",
    "#         shot_data = json.loads(shot_response)['resultSets'][0]['rowSet']\n",
    "#         shot_cols = json.loads(shot_response)['resultSets'][0]['headers']\n",
    "#         shot_df = pd.DataFrame.from_records(shot_data)\n",
    "#         shot_df.columns = shot_cols\n",
    "    except ValueError:\n",
    "        continue\n",
    "    else: \n",
    "        shot_full_list = pd.concat([shot_full_list,shot_response])\n",
    "shot_full_list = pd.merge(shot_full_list,team_names,how='left',left_on='TEAM_ID',right_on='id')\n",
    "shot_full_list.head(50)\n",
    "# shot_full_list.to_csv('shotchartdetail.csv')"
   ]
  },
  {
   "cell_type": "code",
   "execution_count": null,
   "metadata": {},
   "outputs": [],
   "source": [
    "game_ids = pd.DataFrame(json.loads(leaguegamefinder.LeagueGameFinder(season_nullable='2019-20',league_id_nullable='00',\n",
    "                                                          season_type_nullable='Regular Season',headers=custom_headers,\n",
    "                                                                     timeout=1800).get_json())['resultSets'][0]['rowSet'],\n",
    "            columns=json.loads(leaguegamefinder.LeagueGameFinder(season_nullable='2019-20',league_id_nullable='00',\n",
    "                                                                 season_type_nullable='Regular Season',headers=custom_headers,\n",
    "                                                                 timeout=1800).get_json())['resultSets'][0]['headers'])['GAME_ID'].unique().tolist()\n",
    "\n",
    "touchpoints_list = pd.DataFrame()\n",
    "\n",
    "# ########## Player touch points ######################\n",
    "\n",
    "for g in game_ids:\n",
    "    try:\n",
    "        touch_response = pd.DataFrame(json.loads(boxscoreplayertrackv2.BoxScorePlayerTrackV2(game_id=g,headers=custom_headers,timeout=1800).get_json())['resultSets'][0]['rowSet'],\n",
    "            columns=json.loads(boxscoreplayertrackv2.BoxScorePlayerTrackV2(game_id=g,headers=custom_headers,timeout=1800).get_json())['resultSets'][0]['headers'])\n",
    "    except ValueError:\n",
    "        continue\n",
    "    else: \n",
    "        touchpoints_list = pd.concat([touchpoints_list,touch_response])\n",
    "\n",
    "touchpoints_list['new_min'] = touchpoints_list['MIN'].str.split(':',n=1,expand=True)[0]\n",
    "touchpoints_list['new_sec'] = touchpoints_list['MIN'].str.split(':',n=1,expand=True)[1]\n",
    "# touchpoints_list.to_csv('touchesdetail.csv')\n",
    "\n"
   ]
  },
  {
   "cell_type": "code",
   "execution_count": null,
   "metadata": {},
   "outputs": [],
   "source": [
    "########## Player game by game stats #################\n",
    "play_by_play_list = pd.DataFrame()\n",
    "\n",
    "for p in player_ids:\n",
    "    play_repsonse = pd.DataFrame(json.loads(playergamelog.PlayerGameLog(player_id=p,season='2019-20',headers=custom_headers,timeout=1800).get_json())['resultSets'][0]['rowSet'],\n",
    "            columns=json.loads(playergamelog.PlayerGameLog(player_id=p,season='2019-20',headers=custom_headers,timeout=1800).get_json())['resultSets'][0]['headers'])\n",
    "    except ValueError:\n",
    "        continue\n",
    "    else:\n",
    "        play_by_play_list = pd.concat([play_by_play_list,play_repsonse])\n",
    "\n",
    "play_by_play_list.head(10)"
   ]
  },
  {
   "cell_type": "code",
   "execution_count": null,
   "metadata": {},
   "outputs": [],
   "source": [
    "######### Player game matchup players ################\n",
    "# pd.DataFrame(json.loads(boxscorematchups.BoxScoreMatchups(game_id='0021900971',headers=custom_headers,timeout=20).get_json())['resultSets'][0]['rowSet'],\n",
    "#             columns=json.loads(boxscorematchups.BoxScoreMatchups(game_id='0021900971',headers=custom_headers,timeout=20).get_json())['resultSets'][0]['headers'])\n"
   ]
  },
  {
   "cell_type": "code",
   "execution_count": null,
   "metadata": {},
   "outputs": [],
   "source": [
    "########## Play by play #################\n",
    "# pd.DataFrame(json.loads(playbyplayv2.PlayByPlayV2(game_id='0021900971',headers=custom_headers,timeout=20).get_json())['resultSets'][0]['rowSet'],\n",
    "#             columns=json.loads(playbyplayv2.PlayByPlayV2(game_id='0021900971',headers=custom_headers,timeout=20).get_json())['resultSets'][0]['headers'])\n"
   ]
  }
 ],
 "metadata": {
  "kernelspec": {
   "display_name": "Python 3",
   "language": "python",
   "name": "python3"
  },
  "language_info": {
   "codemirror_mode": {
    "name": "ipython",
    "version": 3
   },
   "file_extension": ".py",
   "mimetype": "text/x-python",
   "name": "python",
   "nbconvert_exporter": "python",
   "pygments_lexer": "ipython3",
   "version": "3.7.4"
  }
 },
 "nbformat": 4,
 "nbformat_minor": 2
}
