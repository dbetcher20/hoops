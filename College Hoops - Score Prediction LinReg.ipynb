{
 "cells": [
  {
   "cell_type": "code",
   "execution_count": null,
   "metadata": {},
   "outputs": [],
   "source": [
    "## Packages and initial data set ##\n",
    "\n",
    "from sportsreference.ncaab.schedule import Schedule\n",
    "from sportsreference.ncaab.teams import Teams\n",
    "from sklearn.ensemble import RandomForestRegressor\n",
    "from sklearn.model_selection import train_test_split\n",
    "import pandas\n",
    "import numpy\n",
    "import warnings\n",
    "from sklearn.linear_model import LogisticRegression\n",
    "from sklearn import preprocessing\n",
    "from sklearn import metrics\n",
    "from sklearn.linear_model import LinearRegression\n",
    "\n",
    "\n",
    "warnings.filterwarnings('ignore')\n",
    "\n",
    "pandas.set_option('display.max_columns', 500)\n",
    "pandas.set_option('display.max_rows', 500)\n",
    "data = pandas.read_csv('ncaab_box_scores.csv')\n",
    "data = data[data.columns[-47:]]\n",
    "data['ranked'] = numpy.where(data['team_rank']>0, 1, 0)\n",
    "data['ranked_opp'] = numpy.where(data['opp_rank']>0, 1, 0)\n",
    "data = pandas.get_dummies(data,prefix=['team_home_away'], columns=['team_home_away'])"
   ]
  },
  {
   "cell_type": "code",
   "execution_count": null,
   "metadata": {},
   "outputs": [],
   "source": [
    "## Create specific matchup variables ##\n",
    "\n",
    "matchup_drops = ['unique_game','opponent', 'opp_assist_pct',\n",
    "       'opp_block_pct', 'opp_def_rating', 'opp_def_reb_pct', 'opp_eff_fg_pct',\n",
    "       'opp_fg_pct', 'opp_ft_rate', 'opp_ft_pct', 'opp_off_rating',\n",
    "       'opp_off_reb_pct', 'opp_pts', 'opp_rank', 'opp_stl_pct', 'opp_3pt_rate',\n",
    "       'opp_3pt_pct', 'opp_reb_pct', 'opp_true_shoot_pct', 'opp_to_pct',\n",
    "       'opp_2pt_rate', 'opp_2pt_pct','game_date']\n",
    "\n",
    "matchup_data = data.drop(matchup_drops, 1).dropna()\n",
    "team1cols = ['team1_assist_pct', 'team1_block_pct', 'team1_def_rating',\n",
    "       'team1_def_reb_pct', 'team1_eff_fg_pct', 'team1_fg_pct', 'team1_ft_rate',\n",
    "       'team1_ft_pct', 'team1_off_rating', 'team1_off_reb_pct', 'team1_pts',\n",
    "       'team1_rank', 'team1_stl_pct', 'team1_3pt_rate', 'team1_3pt_pct',\n",
    "       'team1_reb_pct', 'team1_true_shoot_pct', 'team1_to_pct', 'team1_2pt_rate',\n",
    "       'team1_2pt_pct', 'team1_pace', 'team1_win_pct', 'team1_ranked_pct', 'team1_ranked_opp_pct',\n",
    "       'team1_Away', 'team1_Home','team1']\n",
    "team2cols = ['team2_assist_pct', 'team2_block_pct', 'team2_def_rating',\n",
    "       'team2_def_reb_pct', 'team2_eff_fg_pct', 'team2_fg_pct', 'team2_ft_rate',\n",
    "       'team2_ft_pct', 'team2_off_rating', 'team2_off_reb_pct', 'team2_pts',\n",
    "       'team2_rank', 'team2_stl_pct', 'team2_3pt_rate', 'team2_3pt_pct',\n",
    "       'team2_reb_pct', 'team2_true_shoot_pct', 'team2_to_pct', 'team2_2pt_rate',\n",
    "       'team2_2pt_pct', 'team2_pace', 'team2_win_pct', 'team2_ranked_pct', 'team2_ranked_opp_pct',\n",
    "       'team2_Away', 'team2_Home','team2']\n",
    "\n",
    "## Choose which matchup specifics to model and filter situations accordingly ##\n",
    "\n",
    "team1 = pandas.DataFrame(matchup_data[numpy.logical_and(numpy.logical_and(matchup_data['team']=='PENN-STATE',\n",
    "                                                                  matchup_data['team_home_away_Home']==1),\n",
    "                                                matchup_data['ranked_opp']==0)].mean())\n",
    "team2 = pandas.DataFrame(matchup_data[numpy.logical_and(numpy.logical_and(matchup_data['team']=='ILLINOIS',\n",
    "                                                                  matchup_data['team_home_away_Home']==0),\n",
    "                                                matchup_data['ranked_opp']>0)].mean())\n",
    "team1 = team1.transpose()\n",
    "team2 = team2.transpose()\n",
    "team1['team1'] = 'PENN-STATE'\n",
    "team2['team2'] = 'ILLINOIS'\n",
    "team1.columns = team1cols\n",
    "team2.columns = team2cols\n",
    "\n",
    "matchup = pandas.concat([team1,team2],axis=1,sort=True)"
   ]
  },
  {
   "cell_type": "code",
   "execution_count": null,
   "metadata": {},
   "outputs": [],
   "source": [
    "## Choose variables to include in linear regression ##\n",
    "\n",
    "drops = ['team','unique_game','opponent','game_date','team_def_rating','opp_def_rating','team_off_rating',\n",
    "        'opp_off_rating','team_rank','opp_rank','team_eff_fg_pct', 'team_fg_pct','opp_eff_fg_pct', 'opp_fg_pct']\n",
    "log_data = data.drop(drops, 1).dropna()\n",
    "datacols = ['team1_assist_pct', 'team1_block_pct',\n",
    "       'team1_def_reb_pct', 'team1_ft_rate',\n",
    "       'team1_ft_pct', 'team1_off_reb_pct', 'team1_pts',\n",
    "       'team1_stl_pct', 'team1_3pt_rate', 'team1_3pt_pct',\n",
    "       'team1_reb_pct', 'team1_true_shoot_pct', 'team1_to_pct', 'team1_2pt_rate',\n",
    "       'team1_2pt_pct','team2_assist_pct', 'team2_block_pct',\n",
    "       'team2_def_reb_pct', 'team2_ft_rate',\n",
    "       'team2_ft_pct', 'team2_off_reb_pct', 'team2_pts',\n",
    "       'team2_stl_pct', 'team2_3pt_rate', 'team2_3pt_pct',\n",
    "       'team2_reb_pct', 'team2_true_shoot_pct', 'team2_to_pct', 'team2_2pt_rate',\n",
    "       'team2_2pt_pct','team1_pace', 'team1_win_pct', 'team1_ranked_pct', 'team1_ranked_opp_pct',\n",
    "       'team1_Away', 'team1_Home']\n",
    "log_data.columns = datacols\n",
    "\n",
    "matchup_2 = pandas.DataFrame([],columns=datacols)\n",
    "matchup_2 = matchup[datacols]"
   ]
  },
  {
   "cell_type": "code",
   "execution_count": null,
   "metadata": {},
   "outputs": [],
   "source": [
    "## Choose x y variables for linear regression and the matchup to apply model to ##\n",
    "\n",
    "x = log_data.drop(['team1_pts','team2_pts'],1)\n",
    "y = log_data['team1_pts']\n",
    "y_2 = log_data['team2_pts']\n",
    "new_x = matchup_2.drop(['team1_pts','team2_pts'],1)\n",
    "\n",
    "linreg_team1 = LinearRegression()\n",
    "model_team1 = linreg_team1.fit(x, y)\n",
    "model_team2 = linreg_team2.fit(x, y_2)\n",
    "print(model_team1.score(x, y))\n",
    "print(model_team2.score(x, y_2))\n",
    "\n",
    "## Get point predictions for the matchup ##\n",
    "\n",
    "y_predict_matchup = model_team1.predict(new_x)\n",
    "matchup_2['team1_pts_est'] = y_predict_matchup\n",
    "y_predict_matchup_2 = model_team2.predict(new_x)\n",
    "matchup_2['team2_pts_est'] = y_predict_matchup_2"
   ]
  },
  {
   "cell_type": "code",
   "execution_count": null,
   "metadata": {},
   "outputs": [],
   "source": [
    "## Model calculations ##\n",
    "\n",
    "print(model_team1.intercept_)\n",
    "pandas.DataFrame(x.columns,model_team1.coef_)"
   ]
  },
  {
   "cell_type": "code",
   "execution_count": 153,
   "metadata": {},
   "outputs": [
    {
     "data": {
      "text/html": [
       "<div>\n",
       "<style scoped>\n",
       "    .dataframe tbody tr th:only-of-type {\n",
       "        vertical-align: middle;\n",
       "    }\n",
       "\n",
       "    .dataframe tbody tr th {\n",
       "        vertical-align: top;\n",
       "    }\n",
       "\n",
       "    .dataframe thead th {\n",
       "        text-align: right;\n",
       "    }\n",
       "</style>\n",
       "<table border=\"1\" class=\"dataframe\">\n",
       "  <thead>\n",
       "    <tr style=\"text-align: right;\">\n",
       "      <th></th>\n",
       "      <th>team1_pts_est</th>\n",
       "      <th>team2_pts_est</th>\n",
       "    </tr>\n",
       "  </thead>\n",
       "  <tbody>\n",
       "    <tr>\n",
       "      <td>0</td>\n",
       "      <td>85.455909</td>\n",
       "      <td>75.265751</td>\n",
       "    </tr>\n",
       "  </tbody>\n",
       "</table>\n",
       "</div>"
      ],
      "text/plain": [
       "   team1_pts_est  team2_pts_est\n",
       "0      85.455909      75.265751"
      ]
     },
     "execution_count": 153,
     "metadata": {},
     "output_type": "execute_result"
    }
   ],
   "source": [
    "## Matchup predictions ##\n",
    "\n",
    "matchup_2[['team1_pts_est','team2_pts_est']]"
   ]
  }
 ],
 "metadata": {
  "kernelspec": {
   "display_name": "Python 3",
   "language": "python",
   "name": "python3"
  },
  "language_info": {
   "codemirror_mode": {
    "name": "ipython",
    "version": 3
   },
   "file_extension": ".py",
   "mimetype": "text/x-python",
   "name": "python",
   "nbconvert_exporter": "python",
   "pygments_lexer": "ipython3",
   "version": "3.7.4"
  }
 },
 "nbformat": 4,
 "nbformat_minor": 2
}
