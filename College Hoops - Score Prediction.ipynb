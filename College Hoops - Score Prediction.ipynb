{
 "cells": [
  {
   "cell_type": "code",
   "execution_count": 48,
   "metadata": {},
   "outputs": [],
   "source": [
    "##Packages\n",
    "from sportsreference.ncaab.schedule import Schedule\n",
    "from sportsreference.ncaab.teams import Teams\n",
    "from sklearn.ensemble import RandomForestRegressor\n",
    "from sklearn.model_selection import train_test_split\n",
    "import pandas\n",
    "import numpy\n",
    "pandas.set_option('display.max_columns', 500)\n",
    "pandas.set_option('display.max_rows', 500)\n",
    "data = pandas.read_csv('ncaab_box_scores.csv')\n",
    "data = data[data.columns[-47:]]\n",
    "FIELDS_TO_DROP = ['team','unique_game','opponent','won','game_date','team_pts', 'opp_pts','team_assist_pct',\n",
    "'team_block_pct','team_def_reb_pct','team_ft_rate','team_ft_pct','team_off_reb_pct','team_rank','team_stl_pct','team_3pt_rate',\n",
    "'team_to_pct','team_2pt_rate','opp_assist_pct','opp_block_pct','opp_def_reb_pct','opp_ft_rate','opp_ft_pct','opp_off_reb_pct',\n",
    "'opp_rank','opp_stl_pct','opp_3pt_rate','opp_to_pct','opp_2pt_rate','team_fg_pct','opp_fg_pct','team_reb_pct',\n",
    "'opp_reb_pct','team_3pt_pct','team_2pt_pct','opp_3pt_pct','opp_2pt_pct']\n",
    "data = pandas.get_dummies(data,prefix=['team_home_away'], columns=['team_home_away'])"
   ]
  },
  {
   "cell_type": "code",
   "execution_count": 49,
   "metadata": {},
   "outputs": [
    {
     "name": "stdout",
     "output_type": "stream",
     "text": [
      "Mean Absolute Error: 3.24 points.\n"
     ]
    }
   ],
   "source": [
    "X = data.drop(FIELDS_TO_DROP, 1).dropna().drop_duplicates()\n",
    "y = data[['team_pts', 'opp_pts']].values\n",
    "X_train, X_test, y_train, y_test = train_test_split(X, y)\n",
    "\n",
    "parameters = {'bootstrap': False,\n",
    "              'min_samples_leaf': 3,\n",
    "              'n_estimators': 50,\n",
    "              'min_samples_split': 10,\n",
    "              'max_features': 'sqrt',\n",
    "              'max_depth': 6}\n",
    "model = RandomForestRegressor(**parameters)\n",
    "model.fit(X_train, y_train)\n",
    "\n",
    "predictions = model.predict(X_test)\n",
    "errors = abs(predictions - y_test)\n",
    "print('Mean Absolute Error:', round(numpy.mean(errors), 2), 'points.')\n"
   ]
  },
  {
   "cell_type": "code",
   "execution_count": 50,
   "metadata": {},
   "outputs": [
    {
     "name": "stdout",
     "output_type": "stream",
     "text": [
      "Variable: opp_def_rating       Importance: 0.2\n",
      "Variable: team_off_rating      Importance: 0.19\n",
      "Variable: opp_off_rating       Importance: 0.18\n",
      "Variable: team_def_rating      Importance: 0.15\n",
      "Variable: game_pace            Importance: 0.1\n",
      "Variable: opp_true_shoot_pct   Importance: 0.07\n",
      "Variable: team_true_shoot_pct  Importance: 0.04\n",
      "Variable: team_eff_fg_pct      Importance: 0.03\n",
      "Variable: opp_eff_fg_pct       Importance: 0.03\n",
      "Variable: team_home_away_Away  Importance: 0.0\n",
      "Variable: team_home_away_Home  Importance: 0.0\n"
     ]
    }
   ],
   "source": [
    "importances = list(model.feature_importances_)\n",
    "feature_importances = [(feature, round(importance, 2)) for feature, importance in zip(X, importances)]\n",
    "feature_importances = sorted(feature_importances, key = lambda x: x[1], reverse = True)\n",
    "[print('Variable: {:20} Importance: {}'.format(*pair)) for pair in feature_importances];"
   ]
  },
  {
   "cell_type": "code",
   "execution_count": 51,
   "metadata": {},
   "outputs": [
    {
     "data": {
      "text/plain": [
       "15.097909628915367"
      ]
     },
     "execution_count": 51,
     "metadata": {},
     "output_type": "execute_result"
    }
   ],
   "source": [
    "data2 = data\n",
    "data2['pred_team_pts'] = pandas.DataFrame(predictions)[0]\n",
    "data2['pred_opp_pts'] = pandas.DataFrame(predictions)[1]\n",
    "\n",
    "accuracy = abs(data2['pred_team_pts'] - data2['team_pts'])\n",
    "accuracy.dropna().mean()"
   ]
  }
 ],
 "metadata": {
  "kernelspec": {
   "display_name": "Python 3",
   "language": "python",
   "name": "python3"
  },
  "language_info": {
   "codemirror_mode": {
    "name": "ipython",
    "version": 3
   },
   "file_extension": ".py",
   "mimetype": "text/x-python",
   "name": "python",
   "nbconvert_exporter": "python",
   "pygments_lexer": "ipython3",
   "version": "3.7.4"
  }
 },
 "nbformat": 4,
 "nbformat_minor": 2
}
