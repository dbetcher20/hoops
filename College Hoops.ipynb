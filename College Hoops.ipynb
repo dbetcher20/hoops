{
 "cells": [
  {
   "cell_type": "code",
   "execution_count": null,
   "metadata": {},
   "outputs": [],
   "source": [
    "import pandas\n",
    "import numpy\n",
    "import matplotlib.pyplot as plt\n",
    "import seaborn as sns\n",
    "\n",
    "def f(row):\n",
    "    if pandas.isna(row['POSTSEASON']) == True:\n",
    "        val = 0\n",
    "    else:\n",
    "        val = 1\n",
    "    return val\n",
    "\n",
    "data = pandas.read_csv('cbb.csv')\n",
    "data['TOURNEY'] = data.apply(f, axis=1)\n",
    "data[numpy.logical_and(data['YEAR']==2017,data['TOURNEY']==1)].sort_values('W',ascending=False)"
   ]
  },
  {
   "cell_type": "code",
   "execution_count": null,
   "metadata": {},
   "outputs": [],
   "source": [
    "##### LOOK AT A SUBSET OF PLAYLISTS AND VIEW THEIR TRACK RESULTS #####\n",
    "ax = plt.subplot(111)\n",
    "\n",
    "play_x = data[data['YEAR']==2019]['3P_D']\n",
    "play_y = data[data['YEAR']==2019]['WAB']\n",
    "play_classes = data[data['YEAR']==2019]['TOURNEY']\n",
    "    \n",
    "play_scatter = sns.scatterplot(x=play_x, y=play_y, hue=play_classes, alpha=0.6)\n",
    "\n",
    "box = ax.get_position()\n",
    "ax.legend(loc='center left',bbox_to_anchor=(1,0.5))\n",
    "\n",
    "plt.show()"
   ]
  },
  {
   "cell_type": "code",
   "execution_count": 98,
   "metadata": {},
   "outputs": [],
   "source": [
    "from sklearn.model_selection import train_test_split\n",
    "from sklearn.preprocessing import StandardScaler\n",
    "from sklearn.neighbors import KNeighborsClassifier\n",
    "from sklearn.linear_model import LinearRegression\n",
    "from sklearn.metrics import accuracy_score\n",
    "\n",
    "#initial testing data\n",
    "model_data = data\n",
    "\n",
    "X = model_data[['W', 'ADJOE', 'ADJDE', 'EFG_O', 'EFG_D',\n",
    "       'TOR', 'TORD', 'ORB', 'DRB', 'FTR', 'FTRD', '2P_O', '2P_D', '3P_O',\n",
    "       '3P_D', 'ADJ_T', 'WAB']].values\n",
    "Y = model_data['TOURNEY'].values\n",
    "\n",
    "X_train, X_test, Y_train, Y_test = train_test_split(X, Y, test_size=0.20)\n",
    "\n",
    "scaler = StandardScaler()\n",
    "scaler.fit(X_train)\n",
    "\n",
    "X_train = scaler.transform(X_train)\n",
    "X_test = scaler.transform(X_test)\n",
    "\n",
    "#new testing data\n",
    "new_model_data = data[data['YEAR']==2019]\n",
    "\n",
    "new_X = new_model_data[['W', 'ADJOE', 'ADJDE', 'EFG_O', 'EFG_D',\n",
    "       'TOR', 'TORD', 'ORB', 'DRB', 'FTR', 'FTRD', '2P_O', '2P_D', '3P_O',\n",
    "       '3P_D', 'ADJ_T', 'WAB']].values\n",
    "new_Y = new_model_data['TOURNEY'].values\n",
    "\n",
    "scaler.fit(new_X)\n",
    "\n",
    "new_X_train = scaler.transform(new_X)\n",
    "new_X_test = scaler.transform(new_X)\n"
   ]
  },
  {
   "cell_type": "code",
   "execution_count": null,
   "metadata": {},
   "outputs": [],
   "source": [
    "Lin_X_train, Lin_X_test, Lin_Y_train, Lin_Y_test = train_test_split(X, Y, test_size=0.20,random_state=42)\n",
    "regressor = LinearRegression()\n",
    "regressor.fit(Lin_X_train,Lin_Y_train)\n",
    "coef_df = pandas.DataFrame(regressor.coef_)\n",
    "coef_df.sort_values(0,ascending = False)"
   ]
  },
  {
   "cell_type": "code",
   "execution_count": null,
   "metadata": {},
   "outputs": [],
   "source": [
    "import random \n",
    "random.seed(42)\n",
    "k_iterations = []\n",
    "\n",
    "best_classifier = None\n",
    "best_classifier_score = 0\n",
    "\n",
    "\n",
    "for i in range(1,50):\n",
    "    classifier = KNeighborsClassifier(n_neighbors=i)\n",
    "    classifier.fit(X_train,Y_train)\n",
    "    Y_pred = classifier.predict(X_test)\n",
    "    if accuracy_score(Y_test, Y_pred) > best_classifier_score:\n",
    "        best_classifier = classifier\n",
    "        best_classifier_score = accuracy_score(Y_test, Y_pred)\n",
    "    k_iterations.append(accuracy_score(Y_test, Y_pred))\n",
    "\n",
    "k_iterations = pandas.DataFrame(k_iterations)\n",
    "k_iterations.columns = ['score']\n",
    "print(best_classifier_score)\n",
    "k_iterations.sort_values('score',ascending=False)\n",
    "\n",
    "#best score was k = 25\n"
   ]
  },
  {
   "cell_type": "code",
   "execution_count": 99,
   "metadata": {},
   "outputs": [
    {
     "data": {
      "text/plain": [
       "array([1, 1, 1, 1, 1, 1, 1, 1, 0, 0, 0, 0, 0, 0, 0, 0, 0, 0, 0, 0, 0, 0,\n",
       "       0, 0, 1, 0, 0, 0, 0, 0, 0, 0, 0, 0, 0, 0, 0, 0, 0, 0, 0, 0, 0, 0,\n",
       "       0, 0, 0, 0, 0, 0, 0, 0, 0, 0, 0, 0, 0, 0, 0, 1, 0, 0, 0, 0, 0, 0,\n",
       "       0, 0, 0, 0, 0, 0, 0, 0, 0, 0, 0, 0, 0, 0, 0, 0, 0, 0, 0, 0, 0, 0,\n",
       "       0, 0, 0, 0, 0, 0, 0, 0, 0, 0, 0, 0, 0, 0, 0, 0, 0, 0, 0, 0, 0, 0,\n",
       "       0, 0, 0, 0, 0, 0, 0, 0, 0, 0, 0, 0, 0, 0, 0, 0, 0, 0, 0, 0, 0, 0,\n",
       "       0, 0, 0, 0, 0, 0, 0, 0, 0, 0, 0, 0, 0, 0, 0, 0, 0, 0, 0, 0, 0, 0,\n",
       "       1, 0, 0, 0, 0, 0, 0, 0, 0, 0, 0, 0, 0, 0, 0, 0, 0, 0, 0, 0, 0, 0,\n",
       "       0, 0, 0, 0, 0, 0, 0, 0, 0, 0, 0, 0, 0, 0, 0, 0, 0, 0, 0, 0, 0, 0,\n",
       "       0, 0, 0, 0, 0, 0, 0, 0, 0, 0, 0, 0, 0, 0, 0, 0, 0, 0, 0, 0, 0, 0,\n",
       "       0, 0, 0, 0, 0, 0, 0, 0, 0, 0, 0, 0, 0, 0, 0, 0, 0, 0, 0, 0, 0, 0,\n",
       "       0, 0, 0, 0, 0, 0, 0, 0, 0, 0, 0, 0, 0, 0, 0, 0, 0, 0, 0, 0, 0, 0,\n",
       "       0, 0, 0, 0, 0, 0, 0, 0, 0, 0, 0, 0, 0, 0, 0, 0, 0, 0, 0, 0, 0, 0,\n",
       "       0, 0, 0, 0, 0, 0, 0, 1, 1, 1, 0, 0, 0, 1, 1, 1, 1, 1, 1, 1, 1, 1,\n",
       "       0, 0, 0, 1, 0, 1, 1, 1, 1, 1, 1, 0, 0, 0, 0, 0, 0, 0, 0, 0, 1, 1,\n",
       "       0, 1, 0, 0, 0, 0, 1, 1, 0, 1, 1, 1, 1, 0, 0, 1, 1, 1, 1, 1, 1, 1,\n",
       "       1], dtype=int64)"
      ]
     },
     "execution_count": 99,
     "metadata": {},
     "output_type": "execute_result"
    }
   ],
   "source": [
    "new_classifier = KNeighborsClassifier(n_neighbors=25)\n",
    "new_knn_model = new_classifier.fit(X_train,Y_train)\n",
    "new_Y_pred = new_classifier.predict(new_X_test)\n",
    "new_Y_pred"
   ]
  }
 ],
 "metadata": {
  "kernelspec": {
   "display_name": "Python 3",
   "language": "python",
   "name": "python3"
  },
  "language_info": {
   "codemirror_mode": {
    "name": "ipython",
    "version": 3
   },
   "file_extension": ".py",
   "mimetype": "text/x-python",
   "name": "python",
   "nbconvert_exporter": "python",
   "pygments_lexer": "ipython3",
   "version": "3.7.4"
  }
 },
 "nbformat": 4,
 "nbformat_minor": 2
}
